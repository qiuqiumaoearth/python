{
 "cells": [
  {
   "cell_type": "markdown",
   "metadata": {},
   "source": [
    "## 1.加载数据，初步观察"
   ]
  },
  {
   "cell_type": "code",
   "execution_count": 1,
   "metadata": {},
   "outputs": [],
   "source": [
    "import pandas as pd\n",
    "import numpy as np"
   ]
  },
  {
   "cell_type": "code",
   "execution_count": 2,
   "metadata": {},
   "outputs": [],
   "source": [
    "df = pd.read_csv(r\"telecom_users.csv\")"
   ]
  },
  {
   "cell_type": "code",
   "execution_count": 3,
   "metadata": {},
   "outputs": [
    {
     "data": {
      "text/html": [
       "<div>\n",
       "<style scoped>\n",
       "    .dataframe tbody tr th:only-of-type {\n",
       "        vertical-align: middle;\n",
       "    }\n",
       "\n",
       "    .dataframe tbody tr th {\n",
       "        vertical-align: top;\n",
       "    }\n",
       "\n",
       "    .dataframe thead th {\n",
       "        text-align: right;\n",
       "    }\n",
       "</style>\n",
       "<table border=\"1\" class=\"dataframe\">\n",
       "  <thead>\n",
       "    <tr style=\"text-align: right;\">\n",
       "      <th></th>\n",
       "      <th>Unnamed: 0</th>\n",
       "      <th>customerID</th>\n",
       "      <th>gender</th>\n",
       "      <th>SeniorCitizen</th>\n",
       "      <th>Partner</th>\n",
       "      <th>Dependents</th>\n",
       "      <th>tenure</th>\n",
       "      <th>PhoneService</th>\n",
       "      <th>MultipleLines</th>\n",
       "      <th>InternetService</th>\n",
       "      <th>...</th>\n",
       "      <th>DeviceProtection</th>\n",
       "      <th>TechSupport</th>\n",
       "      <th>StreamingTV</th>\n",
       "      <th>StreamingMovies</th>\n",
       "      <th>Contract</th>\n",
       "      <th>PaperlessBilling</th>\n",
       "      <th>PaymentMethod</th>\n",
       "      <th>MonthlyCharges</th>\n",
       "      <th>TotalCharges</th>\n",
       "      <th>Churn</th>\n",
       "    </tr>\n",
       "  </thead>\n",
       "  <tbody>\n",
       "    <tr>\n",
       "      <th>0</th>\n",
       "      <td>1869</td>\n",
       "      <td>7010-BRBUU</td>\n",
       "      <td>Male</td>\n",
       "      <td>0</td>\n",
       "      <td>Yes</td>\n",
       "      <td>Yes</td>\n",
       "      <td>72</td>\n",
       "      <td>Yes</td>\n",
       "      <td>Yes</td>\n",
       "      <td>No</td>\n",
       "      <td>...</td>\n",
       "      <td>No internet service</td>\n",
       "      <td>No internet service</td>\n",
       "      <td>No internet service</td>\n",
       "      <td>No internet service</td>\n",
       "      <td>Two year</td>\n",
       "      <td>No</td>\n",
       "      <td>Credit card (automatic)</td>\n",
       "      <td>24.10</td>\n",
       "      <td>1734.65</td>\n",
       "      <td>No</td>\n",
       "    </tr>\n",
       "    <tr>\n",
       "      <th>1</th>\n",
       "      <td>4528</td>\n",
       "      <td>9688-YGXVR</td>\n",
       "      <td>Female</td>\n",
       "      <td>0</td>\n",
       "      <td>No</td>\n",
       "      <td>No</td>\n",
       "      <td>44</td>\n",
       "      <td>Yes</td>\n",
       "      <td>No</td>\n",
       "      <td>Fiber optic</td>\n",
       "      <td>...</td>\n",
       "      <td>Yes</td>\n",
       "      <td>No</td>\n",
       "      <td>Yes</td>\n",
       "      <td>No</td>\n",
       "      <td>Month-to-month</td>\n",
       "      <td>Yes</td>\n",
       "      <td>Credit card (automatic)</td>\n",
       "      <td>88.15</td>\n",
       "      <td>3973.2</td>\n",
       "      <td>No</td>\n",
       "    </tr>\n",
       "    <tr>\n",
       "      <th>2</th>\n",
       "      <td>6344</td>\n",
       "      <td>9286-DOJGF</td>\n",
       "      <td>Female</td>\n",
       "      <td>1</td>\n",
       "      <td>Yes</td>\n",
       "      <td>No</td>\n",
       "      <td>38</td>\n",
       "      <td>Yes</td>\n",
       "      <td>Yes</td>\n",
       "      <td>Fiber optic</td>\n",
       "      <td>...</td>\n",
       "      <td>No</td>\n",
       "      <td>No</td>\n",
       "      <td>No</td>\n",
       "      <td>No</td>\n",
       "      <td>Month-to-month</td>\n",
       "      <td>Yes</td>\n",
       "      <td>Bank transfer (automatic)</td>\n",
       "      <td>74.95</td>\n",
       "      <td>2869.85</td>\n",
       "      <td>Yes</td>\n",
       "    </tr>\n",
       "    <tr>\n",
       "      <th>3</th>\n",
       "      <td>6739</td>\n",
       "      <td>6994-KERXL</td>\n",
       "      <td>Male</td>\n",
       "      <td>0</td>\n",
       "      <td>No</td>\n",
       "      <td>No</td>\n",
       "      <td>4</td>\n",
       "      <td>Yes</td>\n",
       "      <td>No</td>\n",
       "      <td>DSL</td>\n",
       "      <td>...</td>\n",
       "      <td>No</td>\n",
       "      <td>No</td>\n",
       "      <td>No</td>\n",
       "      <td>Yes</td>\n",
       "      <td>Month-to-month</td>\n",
       "      <td>Yes</td>\n",
       "      <td>Electronic check</td>\n",
       "      <td>55.90</td>\n",
       "      <td>238.5</td>\n",
       "      <td>No</td>\n",
       "    </tr>\n",
       "    <tr>\n",
       "      <th>4</th>\n",
       "      <td>432</td>\n",
       "      <td>2181-UAESM</td>\n",
       "      <td>Male</td>\n",
       "      <td>0</td>\n",
       "      <td>No</td>\n",
       "      <td>No</td>\n",
       "      <td>2</td>\n",
       "      <td>Yes</td>\n",
       "      <td>No</td>\n",
       "      <td>DSL</td>\n",
       "      <td>...</td>\n",
       "      <td>Yes</td>\n",
       "      <td>No</td>\n",
       "      <td>No</td>\n",
       "      <td>No</td>\n",
       "      <td>Month-to-month</td>\n",
       "      <td>No</td>\n",
       "      <td>Electronic check</td>\n",
       "      <td>53.45</td>\n",
       "      <td>119.5</td>\n",
       "      <td>No</td>\n",
       "    </tr>\n",
       "  </tbody>\n",
       "</table>\n",
       "<p>5 rows × 22 columns</p>\n",
       "</div>"
      ],
      "text/plain": [
       "   Unnamed: 0  customerID  gender  SeniorCitizen Partner Dependents  tenure  \\\n",
       "0        1869  7010-BRBUU    Male              0     Yes        Yes      72   \n",
       "1        4528  9688-YGXVR  Female              0      No         No      44   \n",
       "2        6344  9286-DOJGF  Female              1     Yes         No      38   \n",
       "3        6739  6994-KERXL    Male              0      No         No       4   \n",
       "4         432  2181-UAESM    Male              0      No         No       2   \n",
       "\n",
       "  PhoneService MultipleLines InternetService  ...     DeviceProtection  \\\n",
       "0          Yes           Yes              No  ...  No internet service   \n",
       "1          Yes            No     Fiber optic  ...                  Yes   \n",
       "2          Yes           Yes     Fiber optic  ...                   No   \n",
       "3          Yes            No             DSL  ...                   No   \n",
       "4          Yes            No             DSL  ...                  Yes   \n",
       "\n",
       "           TechSupport          StreamingTV      StreamingMovies  \\\n",
       "0  No internet service  No internet service  No internet service   \n",
       "1                   No                  Yes                   No   \n",
       "2                   No                   No                   No   \n",
       "3                   No                   No                  Yes   \n",
       "4                   No                   No                   No   \n",
       "\n",
       "         Contract PaperlessBilling              PaymentMethod MonthlyCharges  \\\n",
       "0        Two year               No    Credit card (automatic)          24.10   \n",
       "1  Month-to-month              Yes    Credit card (automatic)          88.15   \n",
       "2  Month-to-month              Yes  Bank transfer (automatic)          74.95   \n",
       "3  Month-to-month              Yes           Electronic check          55.90   \n",
       "4  Month-to-month               No           Electronic check          53.45   \n",
       "\n",
       "  TotalCharges  Churn  \n",
       "0      1734.65     No  \n",
       "1       3973.2     No  \n",
       "2      2869.85    Yes  \n",
       "3        238.5     No  \n",
       "4        119.5     No  \n",
       "\n",
       "[5 rows x 22 columns]"
      ]
     },
     "execution_count": 3,
     "metadata": {},
     "output_type": "execute_result"
    }
   ],
   "source": [
    "df.head()"
   ]
  },
  {
   "cell_type": "code",
   "execution_count": 4,
   "metadata": {},
   "outputs": [
    {
     "data": {
      "text/plain": [
       "(5986, 22)"
      ]
     },
     "execution_count": 4,
     "metadata": {},
     "output_type": "execute_result"
    }
   ],
   "source": [
    "df.shape"
   ]
  },
  {
   "cell_type": "code",
   "execution_count": 5,
   "metadata": {},
   "outputs": [
    {
     "name": "stdout",
     "output_type": "stream",
     "text": [
      "<class 'pandas.core.frame.DataFrame'>\n",
      "RangeIndex: 5986 entries, 0 to 5985\n",
      "Data columns (total 22 columns):\n",
      " #   Column            Non-Null Count  Dtype  \n",
      "---  ------            --------------  -----  \n",
      " 0   Unnamed: 0        5986 non-null   int64  \n",
      " 1   customerID        5986 non-null   object \n",
      " 2   gender            5986 non-null   object \n",
      " 3   SeniorCitizen     5986 non-null   int64  \n",
      " 4   Partner           5986 non-null   object \n",
      " 5   Dependents        5986 non-null   object \n",
      " 6   tenure            5986 non-null   int64  \n",
      " 7   PhoneService      5986 non-null   object \n",
      " 8   MultipleLines     5986 non-null   object \n",
      " 9   InternetService   5986 non-null   object \n",
      " 10  OnlineSecurity    5986 non-null   object \n",
      " 11  OnlineBackup      5986 non-null   object \n",
      " 12  DeviceProtection  5986 non-null   object \n",
      " 13  TechSupport       5986 non-null   object \n",
      " 14  StreamingTV       5986 non-null   object \n",
      " 15  StreamingMovies   5986 non-null   object \n",
      " 16  Contract          5986 non-null   object \n",
      " 17  PaperlessBilling  5986 non-null   object \n",
      " 18  PaymentMethod     5986 non-null   object \n",
      " 19  MonthlyCharges    5986 non-null   float64\n",
      " 20  TotalCharges      5986 non-null   object \n",
      " 21  Churn             5986 non-null   object \n",
      "dtypes: float64(1), int64(3), object(18)\n",
      "memory usage: 1.0+ MB\n"
     ]
    }
   ],
   "source": [
    "# 观察各特征的类型，是否有缺失值\n",
    "df.info()"
   ]
  },
  {
   "cell_type": "markdown",
   "metadata": {},
   "source": [
    "各特征含义为：customerID：用户ID；\n",
    "gender：性别（Female & Male）；\n",
    "SeniorCitizen：老年用户（1表示是，0表示不是）；\n",
    "Partner：伴侣用户（Yes or No）；\n",
    "Dependents：亲属用户（Yes or No）；\n",
    "tenure：在网时长（0-72月）；\n",
    "PhoneService：是否开通电话服务业务（Yes or No）；\n",
    "MultipleLines：是否开通了多线业务（Yes 、No or No phoneservice 三种）；\n",
    "InternetService：是否开通互联网服务 （No, DSL数字网络，fiber optic光纤网络 三种）；\n",
    "OnlineSecurity：是否开通网络安全服务（Yes，No，No internetserive 三种）；\n",
    "OnlineBackup：是否开通在线备份业务（Yes，No，No internetserive 三种）；\n",
    "DeviceProtection：是否开通了设备保护业务（Yes，No，No internetserive 三种）；\n",
    "TechSupport：是否开通了技术支持服务（Yes，No，No internetserive 三种）；\n",
    "StreamingTV：是否开通网络电视（Yes，No，No internetserive 三种）；\n",
    "StreamingMovies：是否开通网络电影（Yes，No，No internetserive 三种）；\n",
    "Contract：签订合同方式 （按月，一年，两年）；\n",
    "PaperlessBilling：是否开通电子账单（Yes or No）；\n",
    "PaymentMethod：付款方式（bank transfer，credit card，electronic check，mailed check）；\n",
    "MonthlyCharges：月费用；\n",
    "TotalCharges：总费用；\n",
    "Churn：该用户是否流失（Yes or No）。"
   ]
  },
  {
   "cell_type": "code",
   "execution_count": 6,
   "metadata": {},
   "outputs": [
    {
     "data": {
      "text/plain": [
       "0"
      ]
     },
     "execution_count": 6,
     "metadata": {},
     "output_type": "execute_result"
    }
   ],
   "source": [
    "# 观察是否有重复值\n",
    "df.customerID.duplicated().sum()"
   ]
  },
  {
   "cell_type": "code",
   "execution_count": 7,
   "metadata": {},
   "outputs": [
    {
     "data": {
      "text/plain": [
       "Unnamed: 0          5986\n",
       "customerID          5986\n",
       "gender                 2\n",
       "SeniorCitizen          2\n",
       "Partner                2\n",
       "Dependents             2\n",
       "tenure                73\n",
       "PhoneService           2\n",
       "MultipleLines          3\n",
       "InternetService        3\n",
       "OnlineSecurity         3\n",
       "OnlineBackup           3\n",
       "DeviceProtection       3\n",
       "TechSupport            3\n",
       "StreamingTV            3\n",
       "StreamingMovies        3\n",
       "Contract               3\n",
       "PaperlessBilling       2\n",
       "PaymentMethod          4\n",
       "MonthlyCharges      1526\n",
       "TotalCharges        5611\n",
       "Churn                  2\n",
       "dtype: int64"
      ]
     },
     "execution_count": 7,
     "metadata": {},
     "output_type": "execute_result"
    }
   ],
   "source": [
    "# 观察特征的取值情况\n",
    "df.nunique()"
   ]
  },
  {
   "cell_type": "code",
   "execution_count": 8,
   "metadata": {},
   "outputs": [
    {
     "name": "stdout",
     "output_type": "stream",
     "text": [
      "gender :  {'Female', 'Male'}\n",
      "Partner :  {'No', 'Yes'}\n",
      "Dependents :  {'No', 'Yes'}\n",
      "PhoneService :  {'No', 'Yes'}\n",
      "MultipleLines :  {'No', 'Yes', 'No phone service'}\n",
      "InternetService :  {'No', 'Fiber optic', 'DSL'}\n",
      "OnlineSecurity :  {'No', 'Yes', 'No internet service'}\n",
      "OnlineBackup :  {'No', 'Yes', 'No internet service'}\n",
      "DeviceProtection :  {'No', 'Yes', 'No internet service'}\n",
      "TechSupport :  {'No', 'Yes', 'No internet service'}\n",
      "StreamingTV :  {'No', 'Yes', 'No internet service'}\n",
      "StreamingMovies :  {'No', 'Yes', 'No internet service'}\n",
      "Contract :  {'Two year', 'One year', 'Month-to-month'}\n",
      "PaperlessBilling :  {'No', 'Yes'}\n",
      "PaymentMethod :  {'Electronic check', 'Mailed check', 'Credit card (automatic)', 'Bank transfer (automatic)'}\n",
      "Churn :  {'No', 'Yes'}\n"
     ]
    }
   ],
   "source": [
    "# 观察下各对象型特征的取值\n",
    "print('gender : ', set(df['gender']))\n",
    "print('Partner : ', set(df['Partner']))\n",
    "print('Dependents : ', set(df['Dependents']))\n",
    "print('PhoneService : ', set(df['PhoneService']))\n",
    "print('MultipleLines : ', set(df['MultipleLines']))\n",
    "print('InternetService : ', set(df['InternetService']))\n",
    "print('OnlineSecurity : ', set(df['OnlineSecurity']))\n",
    "print('OnlineBackup : ', set(df['OnlineBackup']))\n",
    "print('DeviceProtection : ', set(df['DeviceProtection']))\n",
    "print('TechSupport : ', set(df['TechSupport']))\n",
    "print('StreamingTV : ', set(df['StreamingTV']))\n",
    "print('StreamingMovies : ', set(df['StreamingMovies']))\n",
    "print('Contract : ', set(df['Contract']))\n",
    "print('PaperlessBilling : ', set(df['PaperlessBilling']))\n",
    "print('PaymentMethod : ', set(df['PaymentMethod']))\n",
    "print('Churn : ', set(df['Churn']))"
   ]
  },
  {
   "cell_type": "markdown",
   "metadata": {},
   "source": [
    "## 2.流失用户与非流失用户特征分析"
   ]
  },
  {
   "cell_type": "markdown",
   "metadata": {},
   "source": [
    "### 2.1流失用户与非流失用户的个人信息对比"
   ]
  },
  {
   "cell_type": "code",
   "execution_count": 9,
   "metadata": {},
   "outputs": [
    {
     "data": {
      "text/plain": [
       "<matplotlib.axes._subplots.AxesSubplot at 0xea1b988>"
      ]
     },
     "execution_count": 9,
     "metadata": {},
     "output_type": "execute_result"
    },
    {
     "data": {
      "image/png": "[encoded data removed]",
      "text/plain": [
       "<Figure size 720x576 with 4 Axes>"
      ]
     },
     "metadata": {
      "needs_background": "light"
     },
     "output_type": "display_data"
    }
   ],
   "source": [
    "import matplotlib.pyplot as plt\n",
    "import seaborn as sns\n",
    "fig, axes = plt.subplots(2, 2, figsize=(10, 8))\n",
    "sns.countplot(x='gender', data=df, hue='Churn', ax=axes[0][0])\n",
    "sns.countplot(x='SeniorCitizen', data=df, hue='Churn', ax=axes[0][1])\n",
    "sns.countplot(x='Partner', data=df, hue='Churn', ax=axes[1][0])\n",
    "sns.countplot(x='Dependents', data=df, hue='Churn', ax=axes[1][1])"
   ]
  },
  {
   "cell_type": "markdown",
   "metadata": {},
   "source": [
    "### 2.2流失用户与非流失用户的服务订阅信息对比"
   ]
  },
  {
   "cell_type": "code",
   "execution_count": 10,
   "metadata": {},
   "outputs": [
    {
     "data": {
      "image/png": "[encoded data removed]",
      "text/plain": [
       "<Figure size 432x288 with 1 Axes>"
      ]
     },
     "metadata": {
      "needs_background": "light"
     },
     "output_type": "display_data"
    }
   ],
   "source": [
    "plt.rc('font', family='SimHei')\n",
    "plt.title(\"在网时长密度图\")\n",
    "ax1 = sns.kdeplot(df[df['Churn'] == 'Yes']['tenure'], color='r', linestyle='-', label='Churn:Yes')\n",
    "ax1 = sns.kdeplot(df[df['Churn'] == 'No']['tenure'], color='b', linestyle='--', label='Churn:No')"
   ]
  },
  {
   "cell_type": "code",
   "execution_count": 11,
   "metadata": {},
   "outputs": [
    {
     "data": {
      "text/plain": [
       "<matplotlib.axes._subplots.AxesSubplot at 0xef570c8>"
      ]
     },
     "execution_count": 11,
     "metadata": {},
     "output_type": "execute_result"
    },
    {
     "data": {
      "image/png": "[encoded data removed]",
      "text/plain": [
       "<Figure size 720x576 with 9 Axes>"
      ]
     },
     "metadata": {
      "needs_background": "light"
     },
     "output_type": "display_data"
    }
   ],
   "source": [
    "fig, axes = plt.subplots(3, 3, figsize=(10, 8))\n",
    "sns.countplot(x='PhoneService', data=df, hue='Churn', ax=axes[0][0])\n",
    "sns.countplot(x='MultipleLines', data=df, hue='Churn', ax=axes[0][1])\n",
    "sns.countplot(x='InternetService', data=df, hue='Churn', ax=axes[0][2])\n",
    "sns.countplot(x='OnlineSecurity', data=df, hue='Churn', ax=axes[1][0])\n",
    "sns.countplot(x='OnlineBackup', data=df, hue='Churn', ax=axes[1][1])\n",
    "sns.countplot(x='DeviceProtection', data=df, hue='Churn', ax=axes[1][2])\n",
    "sns.countplot(x='TechSupport', data=df, hue='Churn', ax=axes[2][0])\n",
    "sns.countplot(x='StreamingTV', data=df, hue='Churn', ax=axes[2][1])\n",
    "sns.countplot(x='StreamingMovies', data=df, hue='Churn', ax=axes[2][2])"
   ]
  },
  {
   "cell_type": "markdown",
   "metadata": {},
   "source": [
    "### 2.3流失用户与非流失用户帐单信息对比"
   ]
  },
  {
   "cell_type": "code",
   "execution_count": 16,
   "metadata": {},
   "outputs": [
    {
     "data": {
      "text/plain": [
       "<matplotlib.axes._subplots.AxesSubplot at 0x14b10dc8>"
      ]
     },
     "execution_count": 16,
     "metadata": {},
     "output_type": "execute_result"
    },
    {
     "data": {
      "image/png": "[encoded data removed]",
      "text/plain": [
       "<Figure size 720x288 with 2 Axes>"
      ]
     },
     "metadata": {
      "needs_background": "light"
     },
     "output_type": "display_data"
    }
   ],
   "source": [
    "fig, axes = plt.subplots(1, 2, figsize=(10, 4))\n",
    "sns.countplot(x='Contract', data=df, hue='Churn', ax=axes[0])\n",
    "sns.countplot(x='PaperlessBilling', data=df, hue='Churn', ax=axes[1])"
   ]
  },
  {
   "cell_type": "code",
   "execution_count": 13,
   "metadata": {},
   "outputs": [
    {
     "data": {
      "text/plain": [
       "<matplotlib.axes._subplots.AxesSubplot at 0x14769ac8>"
      ]
     },
     "execution_count": 13,
     "metadata": {},
     "output_type": "execute_result"
    },
    {
     "data": {
      "image/png": "[encoded data removed]",
      "text/plain": [
       "<Figure size 432x288 with 1 Axes>"
      ]
     },
     "metadata": {
      "needs_background": "light"
     },
     "output_type": "display_data"
    }
   ],
   "source": [
    "sns.countplot(x='PaymentMethod', data=df, hue='Churn')"
   ]
  },
  {
   "cell_type": "code",
   "execution_count": 14,
   "metadata": {},
   "outputs": [
    {
     "data": {
      "image/png": "[encoded data removed]",
      "text/plain": [
       "<Figure size 432x288 with 1 Axes>"
      ]
     },
     "metadata": {
      "needs_background": "light"
     },
     "output_type": "display_data"
    }
   ],
   "source": [
    "plt.title(\"月费用密度图\")\n",
    "ax1 = sns.kdeplot(df[df['Churn'] == 'Yes']['MonthlyCharges'], color='r', linestyle='-', label='Churn:Yes')\n",
    "ax1 = sns.kdeplot(df[df['Churn'] == 'No']['MonthlyCharges'], color='b', linestyle='--', label='Churn:No')"
   ]
  },
  {
   "cell_type": "code",
   "execution_count": 15,
   "metadata": {},
   "outputs": [
    {
     "ename": "ValueError",
     "evalue": "Unable to parse string \" \" at position 356",
     "output_type": "error",
     "traceback": [
      "\u001b[1;31m---------------------------------------------------------------------------\u001b[0m",
      "\u001b[1;31mValueError\u001b[0m                                Traceback (most recent call last)",
      "\u001b[1;32mpandas\\_libs\\lib.pyx\u001b[0m in \u001b[0;36mpandas._libs.lib.maybe_convert_numeric\u001b[1;34m()\u001b[0m\n",
      "\u001b[1;31mValueError\u001b[0m: Unable to parse string \" \"",
      "\nDuring handling of the above exception, another exception occurred:\n",
      "\u001b[1;31mValueError\u001b[0m                                Traceback (most recent call last)",
      "\u001b[1;32m<ipython-input-15-29c6091c086a>\u001b[0m in \u001b[0;36m<module>\u001b[1;34m\u001b[0m\n\u001b[0;32m      1\u001b[0m \u001b[1;31m# 尝试转化为数值\u001b[0m\u001b[1;33m\u001b[0m\u001b[1;33m\u001b[0m\u001b[1;33m\u001b[0m\u001b[0m\n\u001b[1;32m----> 2\u001b[1;33m \u001b[0mdf\u001b[0m\u001b[1;33m.\u001b[0m\u001b[0mTotalCharges\u001b[0m \u001b[1;33m=\u001b[0m \u001b[0mpd\u001b[0m\u001b[1;33m.\u001b[0m\u001b[0mto_numeric\u001b[0m\u001b[1;33m(\u001b[0m\u001b[0mdf\u001b[0m\u001b[1;33m.\u001b[0m\u001b[0mTotalCharges\u001b[0m\u001b[1;33m,\u001b[0m \u001b[0merrors\u001b[0m\u001b[1;33m=\u001b[0m\u001b[1;34m\"raise\"\u001b[0m\u001b[1;33m)\u001b[0m\u001b[1;33m\u001b[0m\u001b[1;33m\u001b[0m\u001b[0m\n\u001b[0m",
      "\u001b[1;32mE:\\Anaconda3\\envs\\ml\\lib\\site-packages\\pandas\\core\\tools\\numeric.py\u001b[0m in \u001b[0;36mto_numeric\u001b[1;34m(arg, errors, downcast)\u001b[0m\n\u001b[0;32m    153\u001b[0m         \u001b[1;32mtry\u001b[0m\u001b[1;33m:\u001b[0m\u001b[1;33m\u001b[0m\u001b[1;33m\u001b[0m\u001b[0m\n\u001b[0;32m    154\u001b[0m             values = lib.maybe_convert_numeric(\n\u001b[1;32m--> 155\u001b[1;33m                 \u001b[0mvalues\u001b[0m\u001b[1;33m,\u001b[0m \u001b[0mset\u001b[0m\u001b[1;33m(\u001b[0m\u001b[1;33m)\u001b[0m\u001b[1;33m,\u001b[0m \u001b[0mcoerce_numeric\u001b[0m\u001b[1;33m=\u001b[0m\u001b[0mcoerce_numeric\u001b[0m\u001b[1;33m\u001b[0m\u001b[1;33m\u001b[0m\u001b[0m\n\u001b[0m\u001b[0;32m    156\u001b[0m             )\n\u001b[0;32m    157\u001b[0m         \u001b[1;32mexcept\u001b[0m \u001b[1;33m(\u001b[0m\u001b[0mValueError\u001b[0m\u001b[1;33m,\u001b[0m \u001b[0mTypeError\u001b[0m\u001b[1;33m)\u001b[0m\u001b[1;33m:\u001b[0m\u001b[1;33m\u001b[0m\u001b[1;33m\u001b[0m\u001b[0m\n",
      "\u001b[1;32mpandas\\_libs\\lib.pyx\u001b[0m in \u001b[0;36mpandas._libs.lib.maybe_convert_numeric\u001b[1;34m()\u001b[0m\n",
      "\u001b[1;31mValueError\u001b[0m: Unable to parse string \" \" at position 356"
     ]
    }
   ],
   "source": [
    "# 尝试转化为数值\n",
    "df.TotalCharges = pd.to_numeric(df.TotalCharges, errors=\"raise\")"
   ]
  },
  {
   "cell_type": "code",
   "execution_count": 17,
   "metadata": {},
   "outputs": [
    {
     "data": {
      "text/html": [
       "<div>\n",
       "<style scoped>\n",
       "    .dataframe tbody tr th:only-of-type {\n",
       "        vertical-align: middle;\n",
       "    }\n",
       "\n",
       "    .dataframe tbody tr th {\n",
       "        vertical-align: top;\n",
       "    }\n",
       "\n",
       "    .dataframe thead th {\n",
       "        text-align: right;\n",
       "    }\n",
       "</style>\n",
       "<table border=\"1\" class=\"dataframe\">\n",
       "  <thead>\n",
       "    <tr style=\"text-align: right;\">\n",
       "      <th></th>\n",
       "      <th>Unnamed: 0</th>\n",
       "      <th>customerID</th>\n",
       "      <th>gender</th>\n",
       "      <th>SeniorCitizen</th>\n",
       "      <th>Partner</th>\n",
       "      <th>Dependents</th>\n",
       "      <th>tenure</th>\n",
       "      <th>PhoneService</th>\n",
       "      <th>MultipleLines</th>\n",
       "      <th>InternetService</th>\n",
       "      <th>...</th>\n",
       "      <th>DeviceProtection</th>\n",
       "      <th>TechSupport</th>\n",
       "      <th>StreamingTV</th>\n",
       "      <th>StreamingMovies</th>\n",
       "      <th>Contract</th>\n",
       "      <th>PaperlessBilling</th>\n",
       "      <th>PaymentMethod</th>\n",
       "      <th>MonthlyCharges</th>\n",
       "      <th>TotalCharges</th>\n",
       "      <th>Churn</th>\n",
       "    </tr>\n",
       "  </thead>\n",
       "  <tbody>\n",
       "    <tr>\n",
       "      <th>356</th>\n",
       "      <td>6754</td>\n",
       "      <td>2775-SEFEE</td>\n",
       "      <td>Male</td>\n",
       "      <td>0</td>\n",
       "      <td>No</td>\n",
       "      <td>Yes</td>\n",
       "      <td>0</td>\n",
       "      <td>Yes</td>\n",
       "      <td>Yes</td>\n",
       "      <td>DSL</td>\n",
       "      <td>...</td>\n",
       "      <td>No</td>\n",
       "      <td>Yes</td>\n",
       "      <td>No</td>\n",
       "      <td>No</td>\n",
       "      <td>Two year</td>\n",
       "      <td>Yes</td>\n",
       "      <td>Bank transfer (automatic)</td>\n",
       "      <td>61.90</td>\n",
       "      <td></td>\n",
       "      <td>No</td>\n",
       "    </tr>\n",
       "    <tr>\n",
       "      <th>634</th>\n",
       "      <td>1340</td>\n",
       "      <td>1371-DWPAZ</td>\n",
       "      <td>Female</td>\n",
       "      <td>0</td>\n",
       "      <td>Yes</td>\n",
       "      <td>Yes</td>\n",
       "      <td>0</td>\n",
       "      <td>No</td>\n",
       "      <td>No phone service</td>\n",
       "      <td>DSL</td>\n",
       "      <td>...</td>\n",
       "      <td>Yes</td>\n",
       "      <td>Yes</td>\n",
       "      <td>Yes</td>\n",
       "      <td>No</td>\n",
       "      <td>Two year</td>\n",
       "      <td>No</td>\n",
       "      <td>Credit card (automatic)</td>\n",
       "      <td>56.05</td>\n",
       "      <td></td>\n",
       "      <td>No</td>\n",
       "    </tr>\n",
       "    <tr>\n",
       "      <th>2771</th>\n",
       "      <td>3826</td>\n",
       "      <td>3213-VVOLG</td>\n",
       "      <td>Male</td>\n",
       "      <td>0</td>\n",
       "      <td>Yes</td>\n",
       "      <td>Yes</td>\n",
       "      <td>0</td>\n",
       "      <td>Yes</td>\n",
       "      <td>Yes</td>\n",
       "      <td>No</td>\n",
       "      <td>...</td>\n",
       "      <td>No internet service</td>\n",
       "      <td>No internet service</td>\n",
       "      <td>No internet service</td>\n",
       "      <td>No internet service</td>\n",
       "      <td>Two year</td>\n",
       "      <td>No</td>\n",
       "      <td>Mailed check</td>\n",
       "      <td>25.35</td>\n",
       "      <td></td>\n",
       "      <td>No</td>\n",
       "    </tr>\n",
       "    <tr>\n",
       "      <th>3086</th>\n",
       "      <td>5218</td>\n",
       "      <td>2923-ARZLG</td>\n",
       "      <td>Male</td>\n",
       "      <td>0</td>\n",
       "      <td>Yes</td>\n",
       "      <td>Yes</td>\n",
       "      <td>0</td>\n",
       "      <td>Yes</td>\n",
       "      <td>No</td>\n",
       "      <td>No</td>\n",
       "      <td>...</td>\n",
       "      <td>No internet service</td>\n",
       "      <td>No internet service</td>\n",
       "      <td>No internet service</td>\n",
       "      <td>No internet service</td>\n",
       "      <td>One year</td>\n",
       "      <td>Yes</td>\n",
       "      <td>Mailed check</td>\n",
       "      <td>19.70</td>\n",
       "      <td></td>\n",
       "      <td>No</td>\n",
       "    </tr>\n",
       "    <tr>\n",
       "      <th>3255</th>\n",
       "      <td>3331</td>\n",
       "      <td>7644-OMVMY</td>\n",
       "      <td>Male</td>\n",
       "      <td>0</td>\n",
       "      <td>Yes</td>\n",
       "      <td>Yes</td>\n",
       "      <td>0</td>\n",
       "      <td>Yes</td>\n",
       "      <td>No</td>\n",
       "      <td>No</td>\n",
       "      <td>...</td>\n",
       "      <td>No internet service</td>\n",
       "      <td>No internet service</td>\n",
       "      <td>No internet service</td>\n",
       "      <td>No internet service</td>\n",
       "      <td>Two year</td>\n",
       "      <td>No</td>\n",
       "      <td>Mailed check</td>\n",
       "      <td>19.85</td>\n",
       "      <td></td>\n",
       "      <td>No</td>\n",
       "    </tr>\n",
       "    <tr>\n",
       "      <th>4326</th>\n",
       "      <td>936</td>\n",
       "      <td>5709-LVOEQ</td>\n",
       "      <td>Female</td>\n",
       "      <td>0</td>\n",
       "      <td>Yes</td>\n",
       "      <td>Yes</td>\n",
       "      <td>0</td>\n",
       "      <td>Yes</td>\n",
       "      <td>No</td>\n",
       "      <td>DSL</td>\n",
       "      <td>...</td>\n",
       "      <td>Yes</td>\n",
       "      <td>No</td>\n",
       "      <td>Yes</td>\n",
       "      <td>Yes</td>\n",
       "      <td>Two year</td>\n",
       "      <td>No</td>\n",
       "      <td>Mailed check</td>\n",
       "      <td>80.85</td>\n",
       "      <td></td>\n",
       "      <td>No</td>\n",
       "    </tr>\n",
       "    <tr>\n",
       "      <th>5375</th>\n",
       "      <td>753</td>\n",
       "      <td>3115-CZMZD</td>\n",
       "      <td>Male</td>\n",
       "      <td>0</td>\n",
       "      <td>No</td>\n",
       "      <td>Yes</td>\n",
       "      <td>0</td>\n",
       "      <td>Yes</td>\n",
       "      <td>No</td>\n",
       "      <td>No</td>\n",
       "      <td>...</td>\n",
       "      <td>No internet service</td>\n",
       "      <td>No internet service</td>\n",
       "      <td>No internet service</td>\n",
       "      <td>No internet service</td>\n",
       "      <td>Two year</td>\n",
       "      <td>No</td>\n",
       "      <td>Mailed check</td>\n",
       "      <td>20.25</td>\n",
       "      <td></td>\n",
       "      <td>No</td>\n",
       "    </tr>\n",
       "    <tr>\n",
       "      <th>5382</th>\n",
       "      <td>4380</td>\n",
       "      <td>2520-SGTTA</td>\n",
       "      <td>Female</td>\n",
       "      <td>0</td>\n",
       "      <td>Yes</td>\n",
       "      <td>Yes</td>\n",
       "      <td>0</td>\n",
       "      <td>Yes</td>\n",
       "      <td>No</td>\n",
       "      <td>No</td>\n",
       "      <td>...</td>\n",
       "      <td>No internet service</td>\n",
       "      <td>No internet service</td>\n",
       "      <td>No internet service</td>\n",
       "      <td>No internet service</td>\n",
       "      <td>Two year</td>\n",
       "      <td>No</td>\n",
       "      <td>Mailed check</td>\n",
       "      <td>20.00</td>\n",
       "      <td></td>\n",
       "      <td>No</td>\n",
       "    </tr>\n",
       "    <tr>\n",
       "      <th>5695</th>\n",
       "      <td>488</td>\n",
       "      <td>4472-LVYGI</td>\n",
       "      <td>Female</td>\n",
       "      <td>0</td>\n",
       "      <td>Yes</td>\n",
       "      <td>Yes</td>\n",
       "      <td>0</td>\n",
       "      <td>No</td>\n",
       "      <td>No phone service</td>\n",
       "      <td>DSL</td>\n",
       "      <td>...</td>\n",
       "      <td>Yes</td>\n",
       "      <td>Yes</td>\n",
       "      <td>Yes</td>\n",
       "      <td>No</td>\n",
       "      <td>Two year</td>\n",
       "      <td>Yes</td>\n",
       "      <td>Bank transfer (automatic)</td>\n",
       "      <td>52.55</td>\n",
       "      <td></td>\n",
       "      <td>No</td>\n",
       "    </tr>\n",
       "    <tr>\n",
       "      <th>5951</th>\n",
       "      <td>1082</td>\n",
       "      <td>4367-NUYAO</td>\n",
       "      <td>Male</td>\n",
       "      <td>0</td>\n",
       "      <td>Yes</td>\n",
       "      <td>Yes</td>\n",
       "      <td>0</td>\n",
       "      <td>Yes</td>\n",
       "      <td>Yes</td>\n",
       "      <td>No</td>\n",
       "      <td>...</td>\n",
       "      <td>No internet service</td>\n",
       "      <td>No internet service</td>\n",
       "      <td>No internet service</td>\n",
       "      <td>No internet service</td>\n",
       "      <td>Two year</td>\n",
       "      <td>No</td>\n",
       "      <td>Mailed check</td>\n",
       "      <td>25.75</td>\n",
       "      <td></td>\n",
       "      <td>No</td>\n",
       "    </tr>\n",
       "  </tbody>\n",
       "</table>\n",
       "<p>10 rows × 22 columns</p>\n",
       "</div>"
      ],
      "text/plain": [
       "      Unnamed: 0  customerID  gender  SeniorCitizen Partner Dependents  \\\n",
       "356         6754  2775-SEFEE    Male              0      No        Yes   \n",
       "634         1340  1371-DWPAZ  Female              0     Yes        Yes   \n",
       "2771        3826  3213-VVOLG    Male              0     Yes        Yes   \n",
       "3086        5218  2923-ARZLG    Male              0     Yes        Yes   \n",
       "3255        3331  7644-OMVMY    Male              0     Yes        Yes   \n",
       "4326         936  5709-LVOEQ  Female              0     Yes        Yes   \n",
       "5375         753  3115-CZMZD    Male              0      No        Yes   \n",
       "5382        4380  2520-SGTTA  Female              0     Yes        Yes   \n",
       "5695         488  4472-LVYGI  Female              0     Yes        Yes   \n",
       "5951        1082  4367-NUYAO    Male              0     Yes        Yes   \n",
       "\n",
       "      tenure PhoneService     MultipleLines InternetService  ...  \\\n",
       "356        0          Yes               Yes             DSL  ...   \n",
       "634        0           No  No phone service             DSL  ...   \n",
       "2771       0          Yes               Yes              No  ...   \n",
       "3086       0          Yes                No              No  ...   \n",
       "3255       0          Yes                No              No  ...   \n",
       "4326       0          Yes                No             DSL  ...   \n",
       "5375       0          Yes                No              No  ...   \n",
       "5382       0          Yes                No              No  ...   \n",
       "5695       0           No  No phone service             DSL  ...   \n",
       "5951       0          Yes               Yes              No  ...   \n",
       "\n",
       "         DeviceProtection          TechSupport          StreamingTV  \\\n",
       "356                    No                  Yes                   No   \n",
       "634                   Yes                  Yes                  Yes   \n",
       "2771  No internet service  No internet service  No internet service   \n",
       "3086  No internet service  No internet service  No internet service   \n",
       "3255  No internet service  No internet service  No internet service   \n",
       "4326                  Yes                   No                  Yes   \n",
       "5375  No internet service  No internet service  No internet service   \n",
       "5382  No internet service  No internet service  No internet service   \n",
       "5695                  Yes                  Yes                  Yes   \n",
       "5951  No internet service  No internet service  No internet service   \n",
       "\n",
       "          StreamingMovies  Contract PaperlessBilling  \\\n",
       "356                    No  Two year              Yes   \n",
       "634                    No  Two year               No   \n",
       "2771  No internet service  Two year               No   \n",
       "3086  No internet service  One year              Yes   \n",
       "3255  No internet service  Two year               No   \n",
       "4326                  Yes  Two year               No   \n",
       "5375  No internet service  Two year               No   \n",
       "5382  No internet service  Two year               No   \n",
       "5695                   No  Two year              Yes   \n",
       "5951  No internet service  Two year               No   \n",
       "\n",
       "                  PaymentMethod MonthlyCharges TotalCharges  Churn  \n",
       "356   Bank transfer (automatic)          61.90                  No  \n",
       "634     Credit card (automatic)          56.05                  No  \n",
       "2771               Mailed check          25.35                  No  \n",
       "3086               Mailed check          19.70                  No  \n",
       "3255               Mailed check          19.85                  No  \n",
       "4326               Mailed check          80.85                  No  \n",
       "5375               Mailed check          20.25                  No  \n",
       "5382               Mailed check          20.00                  No  \n",
       "5695  Bank transfer (automatic)          52.55                  No  \n",
       "5951               Mailed check          25.75                  No  \n",
       "\n",
       "[10 rows x 22 columns]"
      ]
     },
     "execution_count": 17,
     "metadata": {},
     "output_type": "execute_result"
    }
   ],
   "source": [
    "# 根据报错提示，观察下空格字符串的分布\n",
    "df[df.TotalCharges == \" \"]"
   ]
  },
  {
   "cell_type": "code",
   "execution_count": 18,
   "metadata": {},
   "outputs": [],
   "source": [
    "# 用0代替空字符串，重新尝试\n",
    "df['TotalCharges'] = df['TotalCharges'].replace(\" \", 0)\n",
    "df.TotalCharges = pd.to_numeric(df.TotalCharges, errors=\"raise\")"
   ]
  },
  {
   "cell_type": "code",
   "execution_count": 19,
   "metadata": {},
   "outputs": [
    {
     "data": {
      "image/png": "[encoded data removed]",
      "text/plain": [
       "<Figure size 432x288 with 1 Axes>"
      ]
     },
     "metadata": {
      "needs_background": "light"
     },
     "output_type": "display_data"
    }
   ],
   "source": [
    "plt.title(\"总费用密度图\")\n",
    "ax1 = sns.kdeplot(df[df['Churn'] == 'Yes']['TotalCharges'], color='r', linestyle='-', label='Churn:Yes')\n",
    "ax1 = sns.kdeplot(df[df['Churn'] == 'No']['TotalCharges'], color='b', linestyle='--', label='Churn:No')"
   ]
  },
  {
   "cell_type": "markdown",
   "metadata": {},
   "source": [
    "## 3.分类预测"
   ]
  },
  {
   "cell_type": "markdown",
   "metadata": {},
   "source": [
    "### 3.1 编码，提取特征"
   ]
  },
  {
   "cell_type": "code",
   "execution_count": 20,
   "metadata": {},
   "outputs": [],
   "source": [
    "df_clu = df.drop(['Unnamed: 0', 'customerID', 'Churn'], axis=1)\n",
    "labels = df['Churn']"
   ]
  },
  {
   "cell_type": "code",
   "execution_count": 21,
   "metadata": {},
   "outputs": [],
   "source": [
    "# 二值对象型特征转换成数值型\n",
    "df_clu['gender'] = df_clu['gender'].replace('Male', 1).replace('Female', 0)\n",
    "df_clu['Partner'] = df_clu['Partner'].replace('Yes', 1).replace('No', 0)\n",
    "df_clu['Dependents'] = df_clu['Dependents'].replace('Yes', 1).replace('No', 0)\n",
    "df_clu['PhoneService'] = df_clu['PhoneService'].replace('Yes', 1).replace('No', 0)\n",
    "df_clu['PaperlessBilling'] = df_clu['PaperlessBilling'].replace('Yes', 1).replace('No', 0)\n",
    "labels = labels.replace('Yes', 1).replace('No', 0)"
   ]
  },
  {
   "cell_type": "code",
   "execution_count": 22,
   "metadata": {},
   "outputs": [],
   "source": [
    "# 离散的，可用距离度量的对象型特征转化为数值型\n",
    "df_clu['Contract'] = df_clu['Contract'].replace(\"Month-to-month\", 1).replace(\"One year\", 12).replace(\"Two year\", 24)"
   ]
  },
  {
   "cell_type": "code",
   "execution_count": 23,
   "metadata": {},
   "outputs": [
    {
     "name": "stdout",
     "output_type": "stream",
     "text": [
      "<class 'pandas.core.frame.DataFrame'>\n",
      "RangeIndex: 5986 entries, 0 to 5985\n",
      "Data columns (total 38 columns):\n",
      " #   Column                                   Non-Null Count  Dtype  \n",
      "---  ------                                   --------------  -----  \n",
      " 0   gender                                   5986 non-null   int64  \n",
      " 1   SeniorCitizen                            5986 non-null   int64  \n",
      " 2   Partner                                  5986 non-null   int64  \n",
      " 3   Dependents                               5986 non-null   int64  \n",
      " 4   tenure                                   5986 non-null   int64  \n",
      " 5   PhoneService                             5986 non-null   int64  \n",
      " 6   Contract                                 5986 non-null   int64  \n",
      " 7   PaperlessBilling                         5986 non-null   int64  \n",
      " 8   MonthlyCharges                           5986 non-null   float64\n",
      " 9   TotalCharges                             5986 non-null   float64\n",
      " 10  MultipleLines_No                         5986 non-null   uint8  \n",
      " 11  MultipleLines_No phone service           5986 non-null   uint8  \n",
      " 12  MultipleLines_Yes                        5986 non-null   uint8  \n",
      " 13  InternetService_DSL                      5986 non-null   uint8  \n",
      " 14  InternetService_Fiber optic              5986 non-null   uint8  \n",
      " 15  InternetService_No                       5986 non-null   uint8  \n",
      " 16  OnlineSecurity_No                        5986 non-null   uint8  \n",
      " 17  OnlineSecurity_No internet service       5986 non-null   uint8  \n",
      " 18  OnlineSecurity_Yes                       5986 non-null   uint8  \n",
      " 19  OnlineBackup_No                          5986 non-null   uint8  \n",
      " 20  OnlineBackup_No internet service         5986 non-null   uint8  \n",
      " 21  OnlineBackup_Yes                         5986 non-null   uint8  \n",
      " 22  DeviceProtection_No                      5986 non-null   uint8  \n",
      " 23  DeviceProtection_No internet service     5986 non-null   uint8  \n",
      " 24  DeviceProtection_Yes                     5986 non-null   uint8  \n",
      " 25  TechSupport_No                           5986 non-null   uint8  \n",
      " 26  TechSupport_No internet service          5986 non-null   uint8  \n",
      " 27  TechSupport_Yes                          5986 non-null   uint8  \n",
      " 28  StreamingTV_No                           5986 non-null   uint8  \n",
      " 29  StreamingTV_No internet service          5986 non-null   uint8  \n",
      " 30  StreamingTV_Yes                          5986 non-null   uint8  \n",
      " 31  StreamingMovies_No                       5986 non-null   uint8  \n",
      " 32  StreamingMovies_No internet service      5986 non-null   uint8  \n",
      " 33  StreamingMovies_Yes                      5986 non-null   uint8  \n",
      " 34  PaymentMethod_Bank transfer (automatic)  5986 non-null   uint8  \n",
      " 35  PaymentMethod_Credit card (automatic)    5986 non-null   uint8  \n",
      " 36  PaymentMethod_Electronic check           5986 non-null   uint8  \n",
      " 37  PaymentMethod_Mailed check               5986 non-null   uint8  \n",
      "dtypes: float64(2), int64(8), uint8(28)\n",
      "memory usage: 631.5 KB\n"
     ]
    }
   ],
   "source": [
    "# 离散的，不宜用距离度量的特征用one-hot编码\n",
    "df_clu = pd.get_dummies(df_clu)\n",
    "df_clu.info()"
   ]
  },
  {
   "cell_type": "code",
   "execution_count": 24,
   "metadata": {},
   "outputs": [
    {
     "data": {
      "text/plain": [
       "gender                                        1.00\n",
       "SeniorCitizen                                 1.00\n",
       "Partner                                       1.00\n",
       "Dependents                                    1.00\n",
       "tenure                                       72.00\n",
       "PhoneService                                  1.00\n",
       "Contract                                     24.00\n",
       "PaperlessBilling                              1.00\n",
       "MonthlyCharges                              118.75\n",
       "TotalCharges                               8684.80\n",
       "MultipleLines_No                              1.00\n",
       "MultipleLines_No phone service                1.00\n",
       "MultipleLines_Yes                             1.00\n",
       "InternetService_DSL                           1.00\n",
       "InternetService_Fiber optic                   1.00\n",
       "InternetService_No                            1.00\n",
       "OnlineSecurity_No                             1.00\n",
       "OnlineSecurity_No internet service            1.00\n",
       "OnlineSecurity_Yes                            1.00\n",
       "OnlineBackup_No                               1.00\n",
       "OnlineBackup_No internet service              1.00\n",
       "OnlineBackup_Yes                              1.00\n",
       "DeviceProtection_No                           1.00\n",
       "DeviceProtection_No internet service          1.00\n",
       "DeviceProtection_Yes                          1.00\n",
       "TechSupport_No                                1.00\n",
       "TechSupport_No internet service               1.00\n",
       "TechSupport_Yes                               1.00\n",
       "StreamingTV_No                                1.00\n",
       "StreamingTV_No internet service               1.00\n",
       "StreamingTV_Yes                               1.00\n",
       "StreamingMovies_No                            1.00\n",
       "StreamingMovies_No internet service           1.00\n",
       "StreamingMovies_Yes                           1.00\n",
       "PaymentMethod_Bank transfer (automatic)       1.00\n",
       "PaymentMethod_Credit card (automatic)         1.00\n",
       "PaymentMethod_Electronic check                1.00\n",
       "PaymentMethod_Mailed check                    1.00\n",
       "dtype: float64"
      ]
     },
     "execution_count": 24,
     "metadata": {},
     "output_type": "execute_result"
    }
   ],
   "source": [
    "df_clu.max()"
   ]
  },
  {
   "cell_type": "code",
   "execution_count": 25,
   "metadata": {},
   "outputs": [],
   "source": [
    "# 数据归一化\n",
    "df_clu['tenure'] = ( df_clu['tenure'] - df_clu['tenure'].min() )/( df_clu['tenure'].max() - df_clu['tenure'].min() )\n",
    "df_clu['Contract'] = ( df_clu['Contract'] - df_clu['Contract'].min() )/( df_clu['Contract'].max() - df_clu['Contract'].min() )\n",
    "df_clu['MonthlyCharges'] = ( df_clu['MonthlyCharges'] - df_clu['MonthlyCharges'].min() )/( df_clu['MonthlyCharges'].max() - df_clu['MonthlyCharges'].min() )\n",
    "df_clu['TotalCharges'] = ( df_clu['TotalCharges'] - df_clu['TotalCharges'].min() )/( df_clu['TotalCharges'].max() - df_clu['TotalCharges'].min() )"
   ]
  },
  {
   "cell_type": "markdown",
   "metadata": {},
   "source": [
    "### 3.2 保持法切分训练集和验证集 "
   ]
  },
  {
   "cell_type": "code",
   "execution_count": 26,
   "metadata": {},
   "outputs": [],
   "source": [
    "from sklearn.model_selection import train_test_split\n",
    "from sklearn.metrics import accuracy_score, classification_report, roc_auc_score\n",
    "\n",
    "# 将数据集分成训练集和验证集\n",
    "X_train, X_test, y_train, y_test = train_test_split(df_clu, labels, test_size=0.3, random_state = 1026)"
   ]
  },
  {
   "cell_type": "markdown",
   "metadata": {},
   "source": [
    "### 3.3 建模并验证 "
   ]
  },
  {
   "cell_type": "code",
   "execution_count": 27,
   "metadata": {},
   "outputs": [
    {
     "name": "stdout",
     "output_type": "stream",
     "text": [
      "Test set accuracy score:  0.7188195991091314\n",
      "Area under the ROC curve:  0.7473279852645354\n",
      "              precision    recall  f1-score   support\n",
      "\n",
      "           0       0.91      0.69      0.78      1331\n",
      "           1       0.47      0.81      0.60       465\n",
      "\n",
      "    accuracy                           0.72      1796\n",
      "   macro avg       0.69      0.75      0.69      1796\n",
      "weighted avg       0.80      0.72      0.74      1796\n",
      "\n"
     ]
    }
   ],
   "source": [
    "# 多项式朴素贝叶斯模型\n",
    "from sklearn.naive_bayes import MultinomialNB\n",
    "model = MultinomialNB()\n",
    "model.fit(X_train, y_train)\n",
    "\n",
    "predictions = model.predict(X_test)\n",
    "print('Test set accuracy score: ', accuracy_score(y_test, predictions))\n",
    "print('Area under the ROC curve: ', roc_auc_score(y_test, predictions))\n",
    "print(classification_report(y_test, predictions))"
   ]
  },
  {
   "cell_type": "code",
   "execution_count": 28,
   "metadata": {},
   "outputs": [
    {
     "name": "stdout",
     "output_type": "stream",
     "text": [
      "Test set accuracy score:  0.6765033407572383\n",
      "Area under the ROC curve:  0.7341694739988528\n",
      "              precision    recall  f1-score   support\n",
      "\n",
      "           0       0.92      0.61      0.74      1331\n",
      "           1       0.44      0.85      0.58       465\n",
      "\n",
      "    accuracy                           0.68      1796\n",
      "   macro avg       0.68      0.73      0.66      1796\n",
      "weighted avg       0.80      0.68      0.70      1796\n",
      "\n"
     ]
    }
   ],
   "source": [
    "# 高期朴素贝叶斯模型\n",
    "from sklearn.naive_bayes import GaussianNB\n",
    "model = GaussianNB()\n",
    "model.fit(X_train, y_train)\n",
    "\n",
    "predictions = model.predict(X_test)\n",
    "print('Test set accuracy score: ', accuracy_score(y_test, predictions))\n",
    "print('Area under the ROC curve: ', roc_auc_score(y_test, predictions))\n",
    "print(classification_report(y_test, predictions))"
   ]
  },
  {
   "cell_type": "code",
   "execution_count": 29,
   "metadata": {},
   "outputs": [
    {
     "name": "stdout",
     "output_type": "stream",
     "text": [
      "Test set accuracy score:  0.8051224944320713\n",
      "Area under the ROC curve:  0.7223011237407398\n",
      "              precision    recall  f1-score   support\n",
      "\n",
      "           0       0.85      0.89      0.87      1331\n",
      "           1       0.64      0.55      0.59       465\n",
      "\n",
      "    accuracy                           0.81      1796\n",
      "   macro avg       0.75      0.72      0.73      1796\n",
      "weighted avg       0.80      0.81      0.80      1796\n",
      "\n"
     ]
    }
   ],
   "source": [
    "# 逻辑回归模型\n",
    "from sklearn.linear_model import LogisticRegression\n",
    "model = LogisticRegression(solver='liblinear', penalty='l1')\n",
    "'''\n",
    "solver：一个字符串，指定了求解最优化问题的算法，可以为如下的值:\n",
    "'newton-cg'：使用牛顿法。\n",
    "'lbfgs'：使用L-BFGS拟牛顿法。\n",
    "'liblinear' ：使用 liblinear。\n",
    "'sag'：使用 Stochastic Average Gradient descent 算法。\n",
    "'''\n",
    "model.fit(X_train, y_train)\n",
    "\n",
    "predictions = model.predict(X_test)\n",
    "print('Test set accuracy score: ', accuracy_score(y_test, predictions))\n",
    "print('Area under the ROC curve: ', roc_auc_score(y_test, predictions))\n",
    "print(classification_report(y_test, predictions))"
   ]
  },
  {
   "cell_type": "code",
   "execution_count": 30,
   "metadata": {},
   "outputs": [
    {
     "name": "stdout",
     "output_type": "stream",
     "text": [
      "Test set accuracy score:  0.7293986636971047\n",
      "Area under the ROC curve:  0.6600179346113764\n",
      "              precision    recall  f1-score   support\n",
      "\n",
      "           0       0.83      0.80      0.81      1331\n",
      "           1       0.48      0.52      0.50       465\n",
      "\n",
      "    accuracy                           0.73      1796\n",
      "   macro avg       0.65      0.66      0.66      1796\n",
      "weighted avg       0.74      0.73      0.73      1796\n",
      "\n"
     ]
    }
   ],
   "source": [
    "# 决策树模型\n",
    "from sklearn.tree import DecisionTreeClassifier\n",
    "model = DecisionTreeClassifier(random_state=1026)\n",
    "model.fit(X_train, y_train)\n",
    "\n",
    "predictions = model.predict(X_test)\n",
    "print('Test set accuracy score: ', accuracy_score(y_test, predictions))\n",
    "print('Area under the ROC curve: ', roc_auc_score(y_test, predictions))\n",
    "print(classification_report(y_test, predictions))"
   ]
  },
  {
   "cell_type": "code",
   "execution_count": 31,
   "metadata": {},
   "outputs": [
    {
     "data": {
      "text/plain": [
       "array([0.02322879, 0.02063264, 0.02375014, 0.0152112 , 0.12230143,\n",
       "       0.00388557, 0.17088786, 0.02066956, 0.19023171, 0.18830981,\n",
       "       0.00897204, 0.0022027 , 0.00891221, 0.01600733, 0.01035745,\n",
       "       0.        , 0.04292871, 0.        , 0.0018318 , 0.01291372,\n",
       "       0.        , 0.00443179, 0.01089449, 0.        , 0.00773785,\n",
       "       0.01677563, 0.        , 0.00582868, 0.00720027, 0.        ,\n",
       "       0.00477926, 0.00449029, 0.        , 0.01037334, 0.00767814,\n",
       "       0.00948928, 0.01720337, 0.00988292])"
      ]
     },
     "execution_count": 31,
     "metadata": {},
     "output_type": "execute_result"
    }
   ],
   "source": [
    "# 决策树模型给出的特征重要性\n",
    "model.feature_importances_"
   ]
  },
  {
   "cell_type": "code",
   "execution_count": 32,
   "metadata": {},
   "outputs": [
    {
     "name": "stdout",
     "output_type": "stream",
     "text": [
      "Test set accuracy score:  0.8023385300668151\n",
      "Area under the ROC curve:  0.6980352714023734\n",
      "              precision    recall  f1-score   support\n",
      "\n",
      "           0       0.83      0.91      0.87      1331\n",
      "           1       0.66      0.48      0.56       465\n",
      "\n",
      "    accuracy                           0.80      1796\n",
      "   macro avg       0.75      0.70      0.72      1796\n",
      "weighted avg       0.79      0.80      0.79      1796\n",
      "\n"
     ]
    }
   ],
   "source": [
    "# 随机森林模型\n",
    "from sklearn.ensemble import RandomForestClassifier\n",
    "model = RandomForestClassifier(n_estimators=10, random_state=1026)\n",
    "model.fit(X_train, y_train)\n",
    "\n",
    "predictions = model.predict(X_test)\n",
    "print('Test set accuracy score: ', accuracy_score(y_test, predictions))\n",
    "print('Area under the ROC curve: ', roc_auc_score(y_test, predictions))\n",
    "print(classification_report(y_test, predictions))"
   ]
  },
  {
   "cell_type": "code",
   "execution_count": 33,
   "metadata": {},
   "outputs": [
    {
     "data": {
      "text/plain": [
       "array([3.01281451e-02, 2.01319042e-02, 2.14966801e-02, 1.82703990e-02,\n",
       "       1.56482488e-01, 5.09500664e-03, 9.06267950e-02, 2.69458508e-02,\n",
       "       1.45634808e-01, 1.49891439e-01, 1.54887028e-02, 4.17469097e-03,\n",
       "       1.27669186e-02, 1.13964690e-02, 1.28625344e-02, 4.90233947e-05,\n",
       "       4.38134607e-02, 4.16097712e-06, 8.35579689e-03, 2.28201926e-02,\n",
       "       8.09411722e-05, 1.38272937e-02, 1.36945999e-02, 5.41931768e-03,\n",
       "       1.03126814e-02, 2.58567729e-02, 8.60599246e-04, 9.59589488e-03,\n",
       "       1.06878894e-02, 4.05060901e-04, 1.10655198e-02, 1.32985979e-02,\n",
       "       9.77439731e-03, 8.49530637e-03, 1.34015060e-02, 1.46550703e-02,\n",
       "       2.93619778e-02, 1.27711075e-02])"
      ]
     },
     "execution_count": 33,
     "metadata": {},
     "output_type": "execute_result"
    }
   ],
   "source": [
    "# 随机森林模型给出的特征重要性\n",
    "model.feature_importances_"
   ]
  },
  {
   "cell_type": "code",
   "execution_count": 34,
   "metadata": {},
   "outputs": [
    {
     "name": "stdout",
     "output_type": "stream",
     "text": [
      "Test set accuracy score:  0.7934298440979956\n",
      "Area under the ROC curve:  0.6983212557459424\n",
      "              precision    recall  f1-score   support\n",
      "\n",
      "           0       0.84      0.90      0.87      1331\n",
      "           1       0.63      0.50      0.56       465\n",
      "\n",
      "    accuracy                           0.79      1796\n",
      "   macro avg       0.73      0.70      0.71      1796\n",
      "weighted avg       0.78      0.79      0.79      1796\n",
      "\n"
     ]
    }
   ],
   "source": [
    "# 装袋决策树模型\n",
    "from sklearn.ensemble import BaggingClassifier\n",
    "model = BaggingClassifier(n_estimators=10, random_state=1026)\n",
    "model.fit(X_train, y_train)\n",
    "\n",
    "predictions = model.predict(X_test)\n",
    "print('Test set accuracy score: ', accuracy_score(y_test, predictions))\n",
    "print('Area under the ROC curve: ', roc_auc_score(y_test, predictions))\n",
    "print(classification_report(y_test, predictions))"
   ]
  },
  {
   "cell_type": "code",
   "execution_count": 35,
   "metadata": {},
   "outputs": [
    {
     "name": "stdout",
     "output_type": "stream",
     "text": [
      "Test set accuracy score:  0.7639198218262806\n",
      "Area under the ROC curve:  0.6581226824361988\n",
      "              precision    recall  f1-score   support\n",
      "\n",
      "           0       0.82      0.88      0.85      1331\n",
      "           1       0.56      0.44      0.49       465\n",
      "\n",
      "    accuracy                           0.76      1796\n",
      "   macro avg       0.69      0.66      0.67      1796\n",
      "weighted avg       0.75      0.76      0.75      1796\n",
      "\n"
     ]
    }
   ],
   "source": [
    "# 极端随机树模型\n",
    "from sklearn.ensemble import ExtraTreesClassifier\n",
    "model = ExtraTreesClassifier(n_estimators=10, random_state=1026)\n",
    "model.fit(X_train, y_train)\n",
    "\n",
    "predictions = model.predict(X_test)\n",
    "print('Test set accuracy score: ', accuracy_score(y_test, predictions))\n",
    "print('Area under the ROC curve: ', roc_auc_score(y_test, predictions))\n",
    "print(classification_report(y_test, predictions))"
   ]
  },
  {
   "cell_type": "code",
   "execution_count": 36,
   "metadata": {},
   "outputs": [
    {
     "name": "stdout",
     "output_type": "stream",
     "text": [
      "Test set accuracy score:  0.7861915367483296\n",
      "Area under the ROC curve:  0.6122827851966748\n",
      "              precision    recall  f1-score   support\n",
      "\n",
      "           0       0.79      0.97      0.87      1331\n",
      "           1       0.76      0.25      0.38       465\n",
      "\n",
      "    accuracy                           0.79      1796\n",
      "   macro avg       0.78      0.61      0.62      1796\n",
      "weighted avg       0.78      0.79      0.74      1796\n",
      "\n"
     ]
    }
   ],
   "source": [
    "# 梯度提升树模型\n",
    "from sklearn.ensemble import GradientBoostingClassifier\n",
    "model = GradientBoostingClassifier(n_estimators=10, random_state=1026)\n",
    "model.fit(X_train, y_train)\n",
    "\n",
    "predictions = model.predict(X_test)\n",
    "print('Test set accuracy score: ', accuracy_score(y_test, predictions))\n",
    "print('Area under the ROC curve: ', roc_auc_score(y_test, predictions))\n",
    "print(classification_report(y_test, predictions))"
   ]
  },
  {
   "cell_type": "code",
   "execution_count": 37,
   "metadata": {},
   "outputs": [],
   "source": [
    "# 多层全连接层神经网络模型\n",
    "import tensorflow as tf\n",
    "\n",
    "tf_model = tf.keras.Sequential([\n",
    "    tf.keras.layers.Dense(100, activation='relu', input_shape=(38,), kernel_initializer='random_uniform'),\n",
    "    tf.keras.layers.Dense(100, activation='relu', kernel_initializer='random_uniform'),\n",
    "    tf.keras.layers.Dense(1, activation='relu', kernel_initializer='random_uniform')\n",
    "])"
   ]
  },
  {
   "cell_type": "code",
   "execution_count": 38,
   "metadata": {
    "scrolled": true
   },
   "outputs": [
    {
     "name": "stdout",
     "output_type": "stream",
     "text": [
      "Model: \"sequential\"\n",
      "_________________________________________________________________\n",
      "Layer (type)                 Output Shape              Param #   \n",
      "=================================================================\n",
      "dense (Dense)                (None, 100)               3900      \n",
      "_________________________________________________________________\n",
      "dense_1 (Dense)              (None, 100)               10100     \n",
      "_________________________________________________________________\n",
      "dense_2 (Dense)              (None, 1)                 101       \n",
      "=================================================================\n",
      "Total params: 14,101\n",
      "Trainable params: 14,101\n",
      "Non-trainable params: 0\n",
      "_________________________________________________________________\n",
      "Train on 4190 samples, validate on 1796 samples\n",
      "Epoch 1/10\n",
      "4190/4190 [==============================] - 3s 831us/sample - loss: 0.1802 - accuracy: 0.7549 - val_loss: 0.1462 - val_accuracy: 0.7773\n",
      "Epoch 2/10\n",
      "4190/4190 [==============================] - 1s 190us/sample - loss: 0.1467 - accuracy: 0.7885 - val_loss: 0.1381 - val_accuracy: 0.7996\n",
      "Epoch 3/10\n",
      "4190/4190 [==============================] - 1s 195us/sample - loss: 0.1430 - accuracy: 0.7902 - val_loss: 0.1354 - val_accuracy: 0.7990\n",
      "Epoch 4/10\n",
      "4190/4190 [==============================] - 1s 184us/sample - loss: 0.1397 - accuracy: 0.7971 - val_loss: 0.1341 - val_accuracy: 0.8023\n",
      "Epoch 5/10\n",
      "4190/4190 [==============================] - 1s 234us/sample - loss: 0.1378 - accuracy: 0.7979 - val_loss: 0.1335 - val_accuracy: 0.7973\n",
      "Epoch 6/10\n",
      "4190/4190 [==============================] - 1s 225us/sample - loss: 0.1380 - accuracy: 0.7947 - val_loss: 0.1335 - val_accuracy: 0.8057\n",
      "Epoch 7/10\n",
      "4190/4190 [==============================] - 1s 205us/sample - loss: 0.1370 - accuracy: 0.7995 - val_loss: 0.1332 - val_accuracy: 0.8051\n",
      "Epoch 8/10\n",
      "4190/4190 [==============================] - 2s 385us/sample - loss: 0.1370 - accuracy: 0.7990 - val_loss: 0.1321 - val_accuracy: 0.8051\n",
      "Epoch 9/10\n",
      "4190/4190 [==============================] - 2s 390us/sample - loss: 0.1351 - accuracy: 0.8010 - val_loss: 0.1326 - val_accuracy: 0.8073\n",
      "Epoch 10/10\n",
      "4190/4190 [==============================] - 1s 247us/sample - loss: 0.1361 - accuracy: 0.8024 - val_loss: 0.1338 - val_accuracy: 0.8035\n"
     ]
    },
    {
     "data": {
      "text/plain": [
       "<tensorflow.python.keras.callbacks.History at 0x1d1c1a88>"
      ]
     },
     "execution_count": 38,
     "metadata": {},
     "output_type": "execute_result"
    }
   ],
   "source": [
    "batch_size = 100 # 每批训练样本数（批梯度下降法）\n",
    "tf_epoch = 10\n",
    "tf_model.compile(optimizer='adam', loss='mse', metrics=['accuracy'])\n",
    "tf_model.summary()\n",
    "tf_model.fit(np.array(X_train), np.array(y_train), validation_data=(np.array(X_test), np.array(y_test)), batch_size=batch_size, epochs=tf_epoch, verbose=1)"
   ]
  },
  {
   "cell_type": "code",
   "execution_count": 39,
   "metadata": {},
   "outputs": [
    {
     "name": "stdout",
     "output_type": "stream",
     "text": [
      "WARNING:tensorflow:Falling back from v2 loop because of error: Failed to find data adapter that can handle input: <class 'pandas.core.frame.DataFrame'>, <class 'NoneType'>\n",
      "Test set accuracy score:  0.8034521158129176\n",
      "Area under the ROC curve:  0.7379648255414717\n",
      "              precision    recall  f1-score   support\n",
      "\n",
      "           0       0.86      0.87      0.87      1331\n",
      "           1       0.62      0.60      0.61       465\n",
      "\n",
      "    accuracy                           0.80      1796\n",
      "   macro avg       0.74      0.74      0.74      1796\n",
      "weighted avg       0.80      0.80      0.80      1796\n",
      "\n"
     ]
    }
   ],
   "source": [
    "predictions = tf_model.predict(X_test)\n",
    "predictions = list(np.round(predictions).reshape(-1,1))\n",
    "\n",
    "print('Test set accuracy score: ', accuracy_score(y_test, predictions))\n",
    "print('Area under the ROC curve: ', roc_auc_score(y_test, predictions))\n",
    "print(classification_report(y_test, predictions))"
   ]
  },
  {
   "cell_type": "code",
   "execution_count": null,
   "metadata": {},
   "outputs": [],
   "source": []
  }
 ],
 "metadata": {
  "kernelspec": {
   "display_name": "Python 3",
   "language": "python",
   "name": "python3"
  },
  "language_info": {
   "codemirror_mode": {
    "name": "ipython",
    "version": 3
   },
   "file_extension": ".py",
   "mimetype": "text/x-python",
   "name": "python",
   "nbconvert_exporter": "python",
   "pygments_lexer": "ipython3",
   "version": "3.7.5"
  }
 },
 "nbformat": 4,
 "nbformat_minor": 2
}
